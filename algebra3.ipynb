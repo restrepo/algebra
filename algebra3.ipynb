{
 "cells": [
  {
   "cell_type": "markdown",
   "metadata": {},
   "source": [
    "# Operaciones matemáticas\n",
    "A continuación puede comprobar su habilidad para realizar cualquier operación matématica de aritmética o álgebra, como por ejemplo (El símbolo de divisiión es '/'):\n",
    "* $2+3$\n",
    "* $4-1$\n",
    "* $2*3$\n",
    "* $4\\times 5+2$\n",
    "* $18 / 3$  \n",
    "* $1/3+1/2$\n",
    "* $2\\times a+3\\times a$\n",
    "* $\\cdots$\n",
    "\n",
    "Abra el notebook in un ambiente ejecutable: [![Binder](https://mybinder.org/badge.svg)](https://mybinder.org/v2/gh/restrepo/\n",
    "algebra/master?filepath=algebra3.ipynb)\n",
    "\n",
    "Para evaluar cada celda use la combinación de teclas: `<Shift>+<Enter>`"
   ]
  },
  {
   "cell_type": "code",
   "execution_count": null,
   "metadata": {},
   "outputs": [],
   "source": [
    "# Use <Shift>+<Enter> !!!\n",
    "from polymult3 import *"
   ]
  },
  {
   "cell_type": "code",
   "execution_count": null,
   "metadata": {},
   "outputs": [],
   "source": [
    "operacion(level=0)"
   ]
  },
  {
   "cell_type": "code",
   "execution_count": null,
   "metadata": {},
   "outputs": [],
   "source": [
    "operacion(level=0)"
   ]
  },
  {
   "cell_type": "code",
   "execution_count": null,
   "metadata": {},
   "outputs": [],
   "source": [
    "operacion(level=0)"
   ]
  },
  {
   "cell_type": "code",
   "execution_count": null,
   "metadata": {},
   "outputs": [],
   "source": [
    "operacion(level=0)"
   ]
  },
  {
   "cell_type": "code",
   "execution_count": null,
   "metadata": {},
   "outputs": [],
   "source": [
    "operacion(level=0)"
   ]
  },
  {
   "cell_type": "code",
   "execution_count": null,
   "metadata": {},
   "outputs": [],
   "source": [
    "operacion(level=0)"
   ]
  },
  {
   "cell_type": "code",
   "execution_count": null,
   "metadata": {},
   "outputs": [],
   "source": [
    "operacion(level=0)"
   ]
  },
  {
   "cell_type": "code",
   "execution_count": null,
   "metadata": {},
   "outputs": [],
   "source": [
    "operacion(level=0)"
   ]
  },
  {
   "cell_type": "code",
   "execution_count": null,
   "metadata": {},
   "outputs": [],
   "source": [
    "operacion(level=1) # x no es * !"
   ]
  },
  {
   "cell_type": "markdown",
   "metadata": {},
   "source": [
    "## álgebra\n",
    "Exercises 41, Algebra by A. Baldor"
   ]
  },
  {
   "cell_type": "code",
   "execution_count": null,
   "metadata": {},
   "outputs": [],
   "source": [
    "exer_mult_step( '(a+b)*(a-b)' )"
   ]
  },
  {
   "cell_type": "code",
   "execution_count": null,
   "metadata": {},
   "outputs": [],
   "source": [
    "exer_mult_step( '(3*x-2*y)*(y+2*x)' )"
   ]
  },
  {
   "cell_type": "code",
   "execution_count": null,
   "metadata": {},
   "outputs": [],
   "source": [
    "exer_mult_step( '(5*a-7*b)*(a+3*b)' )"
   ]
  },
  {
   "cell_type": "code",
   "execution_count": null,
   "metadata": {},
   "outputs": [],
   "source": [
    "exer_mult_step( '(7*x-3)*(4+2*x)' )"
   ]
  },
  {
   "cell_type": "code",
   "execution_count": null,
   "metadata": {},
   "outputs": [],
   "source": [
    "exer_mult_step('(x**4-3*x*y**3+2*x**2*y**2+x*y**3)*(-y**2-x*y-x**2)')"
   ]
  },
  {
   "cell_type": "code",
   "execution_count": null,
   "metadata": {},
   "outputs": [],
   "source": [
    "exer_mult_step( '(-5*a+7*b+3*b*c)*(-a-3*b)' )"
   ]
  },
  {
   "cell_type": "markdown",
   "metadata": {},
   "source": [
    "## Nivel 2 álgebra"
   ]
  },
  {
   "cell_type": "code",
   "execution_count": null,
   "metadata": {},
   "outputs": [],
   "source": [
    "exer_mult( '(5*a+7*b)*(a+3*b)' )"
   ]
  },
  {
   "cell_type": "markdown",
   "metadata": {},
   "source": [
    "## Nivel avanzado"
   ]
  },
  {
   "cell_type": "code",
   "execution_count": null,
   "metadata": {},
   "outputs": [],
   "source": [
    "import sympy as sym\n",
    "from sympy import init_printing; init_printing() \n",
    "from IPython.display import display, Math, Latex\n",
    "a, b, c, x, y, z = sym.symbols(\"a b c x y z\")"
   ]
  },
  {
   "cell_type": "code",
   "execution_count": null,
   "metadata": {},
   "outputs": [],
   "source": [
    "re'1/2+1/3*8-3**2'"
   ]
  },
  {
   "cell_type": "code",
   "execution_count": null,
   "metadata": {},
   "outputs": [],
   "source": [
    "sym.expand( '(a+b)^2' )"
   ]
  },
  {
   "cell_type": "code",
   "execution_count": null,
   "metadata": {},
   "outputs": [],
   "source": [
    "sym.simplify( '(2/5)**3+2/3+5*a' )"
   ]
  },
  {
   "cell_type": "code",
   "execution_count": null,
   "metadata": {},
   "outputs": [],
   "source": [
    "sym.expand( '(2/5)**3+2/3+5*a' )"
   ]
  },
  {
   "cell_type": "code",
   "execution_count": null,
   "metadata": {},
   "outputs": [],
   "source": [
    "sym.factor( 'a^2+2*a*b+b^2' )"
   ]
  },
  {
   "cell_type": "markdown",
   "metadata": {},
   "source": [
    "## Área experimental"
   ]
  },
  {
   "cell_type": "code",
   "execution_count": 28,
   "metadata": {},
   "outputs": [],
   "source": [
    "import ipywidgets as widgets\n",
    "from IPython.display import display # Used to display widgets in the notebook"
   ]
  },
  {
   "cell_type": "code",
   "execution_count": 40,
   "metadata": {},
   "outputs": [
    {
     "name": "stdout",
     "output_type": "stream",
     "text": [
      "hola\n"
     ]
    },
    {
     "data": {
      "application/vnd.jupyter.widget-view+json": {
       "model_id": "fb625314066549caae7a3a9ef9e5961e",
       "version_major": 2,
       "version_minor": 0
      },
      "text/html": [
       "<p>Failed to display Jupyter Widget of type <code>Text</code>.</p>\n",
       "<p>\n",
       "  If you're reading this message in Jupyter Notebook or JupyterLab, it may mean\n",
       "  that the widgets JavaScript is still loading. If this message persists, it\n",
       "  likely means that the widgets JavaScript library is either not installed or\n",
       "  not enabled. See the <a href=\"https://ipywidgets.readthedocs.io/en/stable/user_install.html\">Jupyter\n",
       "  Widgets Documentation</a> for setup instructions.\n",
       "</p>\n",
       "<p>\n",
       "  If you're reading this message in another notebook frontend (for example, a static\n",
       "  rendering on GitHub or <a href=\"https://nbviewer.jupyter.org/\">NBViewer</a>),\n",
       "  it may mean that your frontend doesn't currently support widgets.\n",
       "</p>\n"
      ],
      "text/plain": [
       "Text(value='2+2', description='mundo')"
      ]
     },
     "metadata": {},
     "output_type": "display_data"
    },
    {
     "name": "stdout",
     "output_type": "stream",
     "text": [
      "cruel\n"
     ]
    },
    {
     "data": {
      "application/vnd.jupyter.widget-view+json": {
       "model_id": "ea2816d1be1148f481a50af603855e55",
       "version_major": 2,
       "version_minor": 0
      },
      "text/html": [
       "<p>Failed to display Jupyter Widget of type <code>Text</code>.</p>\n",
       "<p>\n",
       "  If you're reading this message in Jupyter Notebook or JupyterLab, it may mean\n",
       "  that the widgets JavaScript is still loading. If this message persists, it\n",
       "  likely means that the widgets JavaScript library is either not installed or\n",
       "  not enabled. See the <a href=\"https://ipywidgets.readthedocs.io/en/stable/user_install.html\">Jupyter\n",
       "  Widgets Documentation</a> for setup instructions.\n",
       "</p>\n",
       "<p>\n",
       "  If you're reading this message in another notebook frontend (for example, a static\n",
       "  rendering on GitHub or <a href=\"https://nbviewer.jupyter.org/\">NBViewer</a>),\n",
       "  it may mean that your frontend doesn't currently support widgets.\n",
       "</p>\n"
      ],
      "text/plain": [
       "Text(value='4')"
      ]
     },
     "metadata": {},
     "output_type": "display_data"
    },
    {
     "name": "stdout",
     "output_type": "stream",
     "text": [
      "2+2\n"
     ]
    }
   ],
   "source": [
    "expression=widgets.Text(value='2+2',description='mundo')\n",
    "result=widgets.Text(value='4')\n",
    "print('hola')\n",
    "display(expression)\n",
    "print('cruel')\n",
    "display(result)\n"
   ]
  },
  {
   "cell_type": "code",
   "execution_count": 41,
   "metadata": {},
   "outputs": [
    {
     "name": "stdout",
     "output_type": "stream",
     "text": [
      "3+3\n"
     ]
    }
   ],
   "source": [
    "print(expression.value)"
   ]
  },
  {
   "cell_type": "code",
   "execution_count": null,
   "metadata": {},
   "outputs": [],
   "source": [
    "if True:\n",
    "    import subprocess\n",
    "    import sympy as sym\n",
    "    from sympy import init_printing; init_printing() \n",
    "    from IPython.display import display, Math, Latex\n",
    "    a, b, c, x, y, z = sym.symbols(\"a b c x y z\")\n",
    "    display(Math(r'\\large\\text{ Escriba una operación:}'))\n",
    "    expression=input()\n",
    "    if level==0:\n",
    "         expression=expression.replace('x','*')\n",
    "    tex_expr=str(expression).replace('**','^')\n",
    "    if level==0:\n",
    "        tex_expr=tex_expr.replace('*',r'\\times ') \n",
    "    display(Math(  tex_expr  ))\n",
    "    display(Math(r'\\large\\text {Escriba el resultado:}'))\n",
    "    result=input()\n",
    "    #right_result=sym.expand(eval( expression.replace('^','**') ))\n",
    "    right_result=sym.expand(  expression.replace('^','**') )\n",
    "    if right_result==sym.expand( result.replace('^','**') ):\n",
    "        display(Math(r'{\\huge\\text{ ¡Correcto!}}, \\large\\text{  ¡buen trabajo!}'))\n",
    "        if subprocess.Popen('which aplay'.split(),stdout=subprocess.PIPE,stderr=subprocess.PIPE).communicate()[0]:\n",
    "            kk=subprocess.Popen('aplay good.wav'.split(),stdout=subprocess.PIPE,stderr=subprocess.PIPE).communicate()\n",
    "        return right_result\n",
    "    else:\n",
    "        display(Math(r'{\\large\\text{ Mal}}, \\large\\text{ el resultado correcto es:}'))\n",
    "        if subprocess.Popen('which aplay'.split(),stdout=subprocess.PIPE,stderr=subprocess.PIPE).communicate()[0]:                \n",
    "            kk=subprocess.Popen('aplay error.wav'.split(),stdout=subprocess.PIPE,stderr=subprocess.PIPE).communicate()"
   ]
  }
 ],
 "metadata": {
  "kernelspec": {
   "display_name": "Python 3",
   "language": "python",
   "name": "python3"
  },
  "language_info": {
   "codemirror_mode": {
    "name": "ipython",
    "version": 3
   },
   "file_extension": ".py",
   "mimetype": "text/x-python",
   "name": "python",
   "nbconvert_exporter": "python",
   "pygments_lexer": "ipython3",
   "version": "3.5.3"
  }
 },
 "nbformat": 4,
 "nbformat_minor": 2
}
