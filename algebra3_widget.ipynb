{
 "cells": [
  {
   "cell_type": "markdown",
   "metadata": {},
   "source": [
    "# Operaciones matemáticas\n",
    "A continuación puede comprobar su habilidad para realizar cualquier operación matématica de aritmética o álgebra, como por ejemplo (El símbolo de divisiión es '/'):\n",
    "* $2+3$\n",
    "* $4-1$\n",
    "* $2*3$\n",
    "* $4\\times 5+2$\n",
    "* $18 / 3$  \n",
    "* $1/3+1/2$\n",
    "* $2\\times a+3\\times a$\n",
    "* $\\cdots$\n",
    "\n",
    "Para las operaciones de álgebra puede usar los símbolos: `a, b, c, y, z`.\n",
    "\n",
    "A este nivel `x` es eqeuivalente al símbolo de multiplicación `*`. En niveles más avanzados puede usar `x` como sómbolo en operaciones de álgebra.\n",
    "\n",
    "__________________________\n",
    "\n",
    "Abra el notebook in un ambiente ejecutable: [![Binder](https://mybinder.org/badge.svg)](https://mybinder.org/v2/gh/restrepo/\n",
    "algebra/master?filepath=algebra3.ipynb)\n",
    "____________________________\n",
    "\n",
    "Para evaluar cada celda use la combinación de teclas: `<Shift>+<Enter>`"
   ]
  },
  {
   "cell_type": "code",
   "execution_count": 39,
   "metadata": {},
   "outputs": [],
   "source": [
    "# Use <Shift>+<Enter> !!!\n",
    "from polymult3 import *\n",
    "import ipywidgets as widgets\n",
    "from IPython.display import display, Math, Latex "
   ]
  },
  {
   "cell_type": "markdown",
   "metadata": {},
   "source": [
    "## Compruebe sus conocimientos"
   ]
  },
  {
   "cell_type": "code",
   "execution_count": 2,
   "metadata": {},
   "outputs": [
    {
     "data": {
      "application/vnd.jupyter.widget-view+json": {
       "model_id": "5d3b17078e7644b1aa0da6fbf5b331a2"
      }
     },
     "metadata": {},
     "output_type": "display_data"
    },
    {
     "data": {
      "application/vnd.jupyter.widget-view+json": {
       "model_id": "bc6cad60b69243e8b92ac90073b91834"
      }
     },
     "metadata": {},
     "output_type": "display_data"
    },
    {
     "data": {
      "application/vnd.jupyter.widget-view+json": {
       "model_id": "96623392fb3b4bd2b8ab41a1e102644e"
      }
     },
     "metadata": {},
     "output_type": "display_data"
    },
    {
     "data": {
      "application/vnd.jupyter.widget-view+json": {
       "model_id": "8a91aaecba244a9a94fa607a40976f19"
      }
     },
     "metadata": {},
     "output_type": "display_data"
    },
    {
     "data": {
      "text/html": [
       "<hr><b>Comprobando</b>"
      ],
      "text/plain": [
       "<IPython.core.display.HTML object>"
      ]
     },
     "metadata": {},
     "output_type": "display_data"
    },
    {
     "data": {
      "text/latex": [
       "$$a+3\\times a+2$$"
      ],
      "text/plain": [
       "<IPython.core.display.Math object>"
      ]
     },
     "metadata": {},
     "output_type": "display_data"
    },
    {
     "data": {
      "text/html": [
       "<hr>"
      ],
      "text/plain": [
       "<IPython.core.display.HTML object>"
      ]
     },
     "metadata": {},
     "output_type": "display_data"
    },
    {
     "data": {
      "text/latex": [
       "$${\\huge\\text{ ¡Correcto!}}, \\large\\text{  ¡buen trabajo!}$$"
      ],
      "text/plain": [
       "<IPython.core.display.Math object>"
      ]
     },
     "metadata": {},
     "output_type": "display_data"
    },
    {
     "data": {
      "text/latex": [
       "$$4\\times a + 2$$"
      ],
      "text/plain": [
       "<IPython.core.display.Math object>"
      ]
     },
     "metadata": {},
     "output_type": "display_data"
    }
   ],
   "source": [
    "operacion_widget(level=0)"
   ]
  },
  {
   "cell_type": "code",
   "execution_count": 3,
   "metadata": {},
   "outputs": [
    {
     "data": {
      "application/vnd.jupyter.widget-view+json": {
       "model_id": "13c0f4afb7db4897ba24752b82e97a56"
      }
     },
     "metadata": {},
     "output_type": "display_data"
    },
    {
     "data": {
      "application/vnd.jupyter.widget-view+json": {
       "model_id": "3863df73f8b44d18bce7da01ad46d741"
      }
     },
     "metadata": {},
     "output_type": "display_data"
    },
    {
     "data": {
      "application/vnd.jupyter.widget-view+json": {
       "model_id": "3cd492327ea0471e95df6ffca8e234e9"
      }
     },
     "metadata": {},
     "output_type": "display_data"
    },
    {
     "data": {
      "application/vnd.jupyter.widget-view+json": {
       "model_id": "754a017397b04d0b89161344d207ce67"
      }
     },
     "metadata": {},
     "output_type": "display_data"
    },
    {
     "data": {
      "text/html": [
       "<hr><b>Comprobando</b>"
      ],
      "text/plain": [
       "<IPython.core.display.HTML object>"
      ]
     },
     "metadata": {},
     "output_type": "display_data"
    },
    {
     "data": {
      "text/latex": [
       "$$2+3*5$$"
      ],
      "text/plain": [
       "<IPython.core.display.Math object>"
      ]
     },
     "metadata": {},
     "output_type": "display_data"
    },
    {
     "data": {
      "text/html": [
       "<hr>"
      ],
      "text/plain": [
       "<IPython.core.display.HTML object>"
      ]
     },
     "metadata": {},
     "output_type": "display_data"
    },
    {
     "data": {
      "text/latex": [
       "$${\\huge\\text{ ¡Correcto!}}, \\large\\text{  ¡buen trabajo!}$$"
      ],
      "text/plain": [
       "<IPython.core.display.Math object>"
      ]
     },
     "metadata": {},
     "output_type": "display_data"
    },
    {
     "data": {
      "text/latex": [
       "$$17$$"
      ],
      "text/plain": [
       "<IPython.core.display.Math object>"
      ]
     },
     "metadata": {},
     "output_type": "display_data"
    }
   ],
   "source": [
    "operacion_widget(level=1)"
   ]
  },
  {
   "cell_type": "markdown",
   "metadata": {},
   "source": [
    "## Practique las operaciones\n",
    "### Practique las sumas"
   ]
  },
  {
   "cell_type": "code",
   "execution_count": 38,
   "metadata": {},
   "outputs": [
    {
     "data": {
      "application/vnd.jupyter.widget-view+json": {
       "model_id": "e2988b496a144747a12aef4c2d3f810a"
      }
     },
     "metadata": {},
     "output_type": "display_data"
    },
    {
     "data": {
      "application/vnd.jupyter.widget-view+json": {
       "model_id": "f80566b349ae458d99386e2bd76cecea"
      }
     },
     "metadata": {},
     "output_type": "display_data"
    },
    {
     "data": {
      "application/vnd.jupyter.widget-view+json": {
       "model_id": "bdd109bdad85432692cdf1310339bc07"
      }
     },
     "metadata": {},
     "output_type": "display_data"
    },
    {
     "data": {
      "application/vnd.jupyter.widget-view+json": {
       "model_id": "29063b6a130940c09a3d3ca8e8b307bd"
      }
     },
     "metadata": {},
     "output_type": "display_data"
    },
    {
     "data": {
      "application/vnd.jupyter.widget-view+json": {
       "model_id": "3e74d2960afc4664a37c5752522fc711"
      }
     },
     "metadata": {},
     "output_type": "display_data"
    },
    {
     "data": {
      "text/html": [
       "<hr><b>Comprobando</b>"
      ],
      "text/plain": [
       "<IPython.core.display.HTML object>"
      ]
     },
     "metadata": {},
     "output_type": "display_data"
    },
    {
     "data": {
      "text/latex": [
       "$$833+444$$"
      ],
      "text/plain": [
       "<IPython.core.display.Math object>"
      ]
     },
     "metadata": {},
     "output_type": "display_data"
    },
    {
     "data": {
      "text/html": [
       "<hr>"
      ],
      "text/plain": [
       "<IPython.core.display.HTML object>"
      ]
     },
     "metadata": {},
     "output_type": "display_data"
    },
    {
     "data": {
      "text/latex": [
       "$${\\huge\\text{ ¡Correcto!}}, \\large\\text{  ¡buen trabajo!}$$"
      ],
      "text/plain": [
       "<IPython.core.display.Math object>"
      ]
     },
     "metadata": {},
     "output_type": "display_data"
    },
    {
     "data": {
      "text/latex": [
       "$$1277$$"
      ],
      "text/plain": [
       "<IPython.core.display.Math object>"
      ]
     },
     "metadata": {},
     "output_type": "display_data"
    }
   ],
   "source": [
    "def operacion_widget(level=1,tipo='+',rmin=100,rmax=999):    \n",
    "    import ipywidgets as widgets\n",
    "    from IPython.display import display, Math, Latex, HTML # Used to display widgets in the notebook\n",
    "\n",
    "    import random\n",
    "    n1=random.randint(rmin,rmax)\n",
    "    n2=random.randint(rmin,rmax)\n",
    "    if tipo=='-':\n",
    "        n2=random.randint(rmin,n1+1)\n",
    "    cantidad1=widgets.Text(\n",
    "        #description='Esciba una operación:'\n",
    "        value='{}'.format( n1  )\n",
    "        )\n",
    "    \n",
    "    cantidad2   =widgets.Text(\n",
    "        #description='Escriba el resultado:'\n",
    "        value='{}'.format( n2 )\n",
    "        )\n",
    "    \n",
    "    result   =widgets.Text(\n",
    "        #description='Escriba el resultado:'\n",
    "        )\n",
    "    display( widgets.HTMLMath(\n",
    "        value=r\"<b>los valores:</b> o reescribalos) de cada caja. Escriba el <b>resultado</b> de la operación en tercera caja y pulse <code>Enter</code>\",\n",
    "        #placeholder='Some HTML',\n",
    "        description='Use',\n",
    "    ) )\n",
    "    display(cantidad1)\n",
    "    display(cantidad2)\n",
    "    #display(Math(r'\\large\\text {Escriba el resultado:}'))\n",
    "    display( widgets.HTML(r'______________________________________________') )\n",
    "    display(result)\n",
    "    def handle_submit(sender):\n",
    "        expression=cantidad1.value+tipo+cantidad2.value\n",
    "        check_result(expression,result.value,level=level)\n",
    "\n",
    "    result.on_submit(handle_submit)    \n",
    "\n",
    "operacion_widget(level=1)"
   ]
  },
  {
   "cell_type": "markdown",
   "metadata": {},
   "source": [
    "###  Practique las restas"
   ]
  },
  {
   "cell_type": "code",
   "execution_count": 37,
   "metadata": {},
   "outputs": [
    {
     "data": {
      "application/vnd.jupyter.widget-view+json": {
       "model_id": "25566a7f773f4d27bc1af5162b0b3f4c"
      }
     },
     "metadata": {},
     "output_type": "display_data"
    },
    {
     "data": {
      "application/vnd.jupyter.widget-view+json": {
       "model_id": "4d007438bead484c9494d3a0929f7306"
      }
     },
     "metadata": {},
     "output_type": "display_data"
    },
    {
     "data": {
      "application/vnd.jupyter.widget-view+json": {
       "model_id": "fd4b73096d364e93974e231cba2052d5"
      }
     },
     "metadata": {},
     "output_type": "display_data"
    },
    {
     "data": {
      "application/vnd.jupyter.widget-view+json": {
       "model_id": "fd579387c31e44fab38adbfa58875f70"
      }
     },
     "metadata": {},
     "output_type": "display_data"
    },
    {
     "data": {
      "application/vnd.jupyter.widget-view+json": {
       "model_id": "207e42b1f1804e0caa9c16e82aa28d46"
      }
     },
     "metadata": {},
     "output_type": "display_data"
    }
   ],
   "source": [
    "operacion_widget(level=1,tipo='-')"
   ]
  },
  {
   "cell_type": "markdown",
   "metadata": {},
   "source": [
    "## Practique las tablas"
   ]
  },
  {
   "cell_type": "code",
   "execution_count": 6,
   "metadata": {},
   "outputs": [
    {
     "data": {
      "application/vnd.jupyter.widget-view+json": {
       "model_id": "bd6609ff90fc4685b9c00616318035ae"
      }
     },
     "metadata": {},
     "output_type": "display_data"
    },
    {
     "data": {
      "application/vnd.jupyter.widget-view+json": {
       "model_id": "cd8edf1337ed486d98488a8e06847f11"
      }
     },
     "metadata": {},
     "output_type": "display_data"
    },
    {
     "data": {
      "application/vnd.jupyter.widget-view+json": {
       "model_id": "bcc0ff9bb4af43a1b5e6c227a8c6a42a"
      }
     },
     "metadata": {},
     "output_type": "display_data"
    },
    {
     "data": {
      "application/vnd.jupyter.widget-view+json": {
       "model_id": "953ea30056b9411a8b81e191dea9e1eb"
      }
     },
     "metadata": {},
     "output_type": "display_data"
    },
    {
     "data": {
      "application/vnd.jupyter.widget-view+json": {
       "model_id": "64b7896cbdcc4b56a69e95dbd02b95e6"
      }
     },
     "metadata": {},
     "output_type": "display_data"
    },
    {
     "data": {
      "application/vnd.jupyter.widget-view+json": {
       "model_id": "be11f1ed293e4e8fa41c91fdc648e73a"
      }
     },
     "metadata": {},
     "output_type": "display_data"
    },
    {
     "data": {
      "application/vnd.jupyter.widget-view+json": {
       "model_id": "a3faab7ec20f4ac0bf19cdd86b4d26f8"
      }
     },
     "metadata": {},
     "output_type": "display_data"
    },
    {
     "data": {
      "application/vnd.jupyter.widget-view+json": {
       "model_id": "1d89af1735ad4702ab334a5007bbe446"
      }
     },
     "metadata": {},
     "output_type": "display_data"
    },
    {
     "data": {
      "application/vnd.jupyter.widget-view+json": {
       "model_id": "f746b7403fa146dcbad4dd412b6ecd83"
      }
     },
     "metadata": {},
     "output_type": "display_data"
    },
    {
     "data": {
      "application/vnd.jupyter.widget-view+json": {
       "model_id": "744e1b991f524edc964deba304bdd27c"
      }
     },
     "metadata": {},
     "output_type": "display_data"
    },
    {
     "data": {
      "application/vnd.jupyter.widget-view+json": {
       "model_id": "f48aa0a24e3f4afb8f95cf5a29b05073"
      }
     },
     "metadata": {},
     "output_type": "display_data"
    },
    {
     "data": {
      "application/vnd.jupyter.widget-view+json": {
       "model_id": "362d18c05f5c435abb119bc935bfa0a4"
      }
     },
     "metadata": {},
     "output_type": "display_data"
    },
    {
     "data": {
      "application/vnd.jupyter.widget-view+json": {
       "model_id": "8bfc18822693471ea488b1c2d3a9c02b"
      }
     },
     "metadata": {},
     "output_type": "display_data"
    }
   ],
   "source": [
    "Tabla=widgets.Text(\n",
    "        description='Memorize la tabla del:'\n",
    ")\n",
    "display(Tabla)\n",
    "def handle_submit(sender):\n",
    "    N=Tabla.value\n",
    "    for i in range(1,12):\n",
    "        display(widgets.HTML('{} x {} = {}'.format(N,i,int(N)*i)))\n",
    "        \n",
    "        if i==11:\n",
    "            display(widgets.HTML('''Pulse en la <b><font size=\"3\" color=\"gray\">x </font></b> a anterior\n",
    "                        y <b>practique la siguiente celda con <code>Shift+Enter</code></b>\n",
    "                        '''))\n",
    "Tabla.on_submit(handle_submit) \n"
   ]
  },
  {
   "cell_type": "code",
   "execution_count": 7,
   "metadata": {},
   "outputs": [
    {
     "data": {
      "application/vnd.jupyter.widget-view+json": {
       "model_id": "15d15e92b066427ca069d72ce6598b40"
      }
     },
     "metadata": {},
     "output_type": "display_data"
    },
    {
     "data": {
      "application/vnd.jupyter.widget-view+json": {
       "model_id": "5ef45fb9020f4645a3a503d2069bb7c6"
      }
     },
     "metadata": {},
     "output_type": "display_data"
    },
    {
     "data": {
      "application/vnd.jupyter.widget-view+json": {
       "model_id": "a3dca2262779498386c227d8b0add9dd"
      }
     },
     "metadata": {},
     "output_type": "display_data"
    },
    {
     "data": {
      "application/vnd.jupyter.widget-view+json": {
       "model_id": "31bb3605888b46ab98e915685f2380c9"
      }
     },
     "metadata": {},
     "output_type": "display_data"
    },
    {
     "data": {
      "application/vnd.jupyter.widget-view+json": {
       "model_id": "eba54685642c4c0f80bce76eb9eefa47"
      }
     },
     "metadata": {},
     "output_type": "display_data"
    },
    {
     "data": {
      "application/vnd.jupyter.widget-view+json": {
       "model_id": "ad651d97627d4690bdb6d623aa4c892b"
      }
     },
     "metadata": {},
     "output_type": "display_data"
    },
    {
     "data": {
      "application/vnd.jupyter.widget-view+json": {
       "model_id": "e2c8aa3ffe8144d2807fd9cb35a679aa"
      }
     },
     "metadata": {},
     "output_type": "display_data"
    },
    {
     "data": {
      "application/vnd.jupyter.widget-view+json": {
       "model_id": "c2a8f993e90645fa9bcf77f23aac1a56"
      }
     },
     "metadata": {},
     "output_type": "display_data"
    },
    {
     "data": {
      "application/vnd.jupyter.widget-view+json": {
       "model_id": "77d9843fb3bc4a198057a5a41320af25"
      }
     },
     "metadata": {},
     "output_type": "display_data"
    },
    {
     "data": {
      "application/vnd.jupyter.widget-view+json": {
       "model_id": "b082cf6e06134295962b4a69649a681f"
      }
     },
     "metadata": {},
     "output_type": "display_data"
    },
    {
     "data": {
      "application/vnd.jupyter.widget-view+json": {
       "model_id": "d6cdd9df44134699aa33855354888503"
      }
     },
     "metadata": {},
     "output_type": "display_data"
    },
    {
     "data": {
      "application/vnd.jupyter.widget-view+json": {
       "model_id": "4797bdcf82fd450381c78f45134887fe"
      }
     },
     "metadata": {},
     "output_type": "display_data"
    }
   ],
   "source": [
    "display(widgets.HTML('<b>Practique aquí</b>'))\n",
    "error=False\n",
    "N=Tabla.value\n",
    "tb=[];tb.append(0)\n",
    "for i in range(1,11):\n",
    "    tb.append( widgets.Text(description='{} x {} ='.format(N,i)) )\n",
    "    display(tb[i])\n",
    "display(widgets.HTML('<b>Compruebe</b> su resultado en la siguiente celda con <code>Shift+Enter</code>'))    "
   ]
  },
  {
   "cell_type": "code",
   "execution_count": 8,
   "metadata": {},
   "outputs": [
    {
     "data": {
      "application/vnd.jupyter.widget-view+json": {
       "model_id": "d8248528facf4a548ec401365603721b"
      }
     },
     "metadata": {},
     "output_type": "display_data"
    }
   ],
   "source": [
    "error=False\n",
    "for i in range(1,11):\n",
    "    if int(tb[i].value)!=int(N)*i:\n",
    "        error=True\n",
    "        display(widgets.HTML( '<h1>Mal!: <font color=\"red\"> ' +N+' x {} = {}</font>,  no '.format(i,int(N)*i)+ tb[i].value+'</h1>'  ) )\n",
    "if not error:\n",
    "    display(widgets.HTML('''<h1>¡Felicitaciones!: sabes la tabla del {} </h1> \n",
    "                            <h2> <font color=\"blue\"> !Buen trabajo!</font></h2>'''.format(N)))    "
   ]
  },
  {
   "cell_type": "markdown",
   "metadata": {},
   "source": [
    "## Área experimental\n",
    "See: https://blog.dominodatalab.com/interactive-dashboards-in-jupyter/"
   ]
  },
  {
   "cell_type": "code",
   "execution_count": 139,
   "metadata": {},
   "outputs": [
    {
     "data": {
      "application/vnd.jupyter.widget-view+json": {
       "model_id": "ed487d195a934e86988d5e9e8213481a"
      }
     },
     "metadata": {},
     "output_type": "display_data"
    }
   ],
   "source": [
    "outputText1=widgets.Text()\n",
    "#outputText2=widgets.Text()\n",
    "outputText1\n",
    "#outputText2"
   ]
  },
  {
   "cell_type": "code",
   "execution_count": 140,
   "metadata": {},
   "outputs": [
    {
     "data": {
      "application/vnd.jupyter.widget-view+json": {
       "model_id": "f1810d1ec26547eb88004ff63c464c20"
      }
     },
     "metadata": {},
     "output_type": "display_data"
    }
   ],
   "source": [
    "inputText1=widgets.Text()\n",
    "N=2\n",
    "def practique(sender):\n",
    "    outputText1.value=str( eval(inputText1.value) )\n",
    "\n",
    "inputText1.on_submit(practique)\n",
    "inputText1"
   ]
  },
  {
   "cell_type": "markdown",
   "metadata": {},
   "source": [
    "## import sympy"
   ]
  },
  {
   "cell_type": "code",
   "execution_count": 52,
   "metadata": {},
   "outputs": [
    {
     "data": {
      "image/png": "[encoded data removed]",
      "text/latex": [
       "$$6$$"
      ],
      "text/plain": [
       "6"
      ]
     },
     "execution_count": 52,
     "metadata": {},
     "output_type": "execute_result"
    }
   ],
   "source": [
    "sympy.expand('2*3')"
   ]
  },
  {
   "cell_type": "code",
   "execution_count": 18,
   "metadata": {},
   "outputs": [
    {
     "data": {
      "application/vnd.jupyter.widget-view+json": {
       "model_id": "32458d6ada6242c0a1062c13ab9a43f7"
      }
     },
     "metadata": {},
     "output_type": "display_data"
    }
   ],
   "source": [
    "a=widgets.Text(value='2')\n",
    "display(a)"
   ]
  },
  {
   "cell_type": "code",
   "execution_count": null,
   "metadata": {},
   "outputs": [],
   "source": []
  }
 ],
 "metadata": {
  "kernelspec": {
   "display_name": "Python 3",
   "language": "python",
   "name": "python3"
  },
  "language_info": {
   "codemirror_mode": {
    "name": "ipython",
    "version": 3
   },
   "file_extension": ".py",
   "mimetype": "text/x-python",
   "name": "python",
   "nbconvert_exporter": "python",
   "pygments_lexer": "ipython3",
   "version": "3.4.2"
  }
 },
 "nbformat": 4,
 "nbformat_minor": 2
}
