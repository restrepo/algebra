{
 "cells": [
  {
   "cell_type": "markdown",
   "metadata": {},
   "source": [
    "# Operaciones matemáticas\n",
    "A continuación puede comprobar su habilidad para realizar cualquier operación matématica de aritmética o álgebra, como por ejemplo (El símbolo de divisiión es '/'):\n",
    "* $2+3$\n",
    "* $4-1$\n",
    "* $2*3$\n",
    "* $4\\times 5+2$\n",
    "* $18 / 3$  \n",
    "* $1/3+1/2$\n",
    "* $2\\times a+3\\times a$\n",
    "* $\\cdots$\n",
    "\n",
    "Para las operaciones de álgebra puede usar los símbolos: `a, b, c, y, z`.\n",
    "\n",
    "A este nivel `x` es eqeuivalente al símbolo de multiplicación `*`. En niveles más avanzados puede usar `x` como sómbolo en operaciones de álgebra.\n",
    "\n",
    "__________________________\n",
    "\n",
    "Abra el notebook in un ambiente ejecutable: [![Binder](https://mybinder.org/badge.svg)](https://mybinder.org/v2/gh/restrepo/\n",
    "algebra/master?filepath=algebra3_widget.ipynb)\n",
    "____________________________\n",
    "\n",
    "Para evaluar cada celda use la combinación de teclas: `<Shift>+<Enter>`"
   ]
  },
  {
   "cell_type": "code",
   "execution_count": 1,
   "metadata": {},
   "outputs": [],
   "source": [
    "# Use <Shift>+<Enter> !!!\n",
    "from polymult3 import *"
   ]
  },
  {
   "cell_type": "markdown",
   "metadata": {},
   "source": [
    "## Compruebe sus conocimientos"
   ]
  },
  {
   "cell_type": "code",
   "execution_count": 4,
   "metadata": {},
   "outputs": [],
   "source": [
    "operacion_widget(level=0)"
   ]
  },
  {
   "cell_type": "code",
   "execution_count": 5,
   "metadata": {},
   "outputs": [],
   "source": [
    "operacion_widget(level=1)"
   ]
  },
  {
   "cell_type": "markdown",
   "metadata": {},
   "source": [
    "## Practique las operaciones\n",
    "### Practique las sumas"
   ]
  },
  {
   "cell_type": "code",
   "execution_count": null,
   "metadata": {},
   "outputs": [],
   "source": [
    "def operacion_widget(level=1,tipo='+',rmin=100,rmax=999):    \n",
    "    import ipywidgets as widgets\n",
    "    from IPython.display import display, Math, Latex, HTML # Used to display widgets in the notebook\n",
    "\n",
    "    import random\n",
    "    n1=random.randint(rmin,rmax)\n",
    "    n2=random.randint(rmin,rmax)\n",
    "    if tipo=='-':\n",
    "        n2=random.randint(rmin,n1+1)\n",
    "    cantidad1=widgets.Text(\n",
    "        #description='Esciba una operación:'\n",
    "        value='{}'.format( n1  )\n",
    "        )\n",
    "    \n",
    "    cantidad2   =widgets.Text(\n",
    "        #description='Escriba el resultado:'\n",
    "        value='{}'.format( n2 )\n",
    "        )\n",
    "    \n",
    "    result   =widgets.Text(\n",
    "        #description='Escriba el resultado:'\n",
    "        )\n",
    "    display( widgets.HTMLMath(\n",
    "        value=r\"<b>los valores:</b> o reescribalos) de cada caja. Escriba el <b>resultado</b> de la operación en tercera caja y pulse <code>Enter</code>\",\n",
    "        #placeholder='Some HTML',\n",
    "        description='Use',\n",
    "    ) )\n",
    "    display(cantidad1)\n",
    "    display(cantidad2)\n",
    "    #display(Math(r'\\large\\text {Escriba el resultado:}'))\n",
    "    display( widgets.HTML(r'______________________________________________') )\n",
    "    display(result)\n",
    "    def handle_submit(sender):\n",
    "        expression=cantidad1.value+tipo+cantidad2.value\n",
    "        check_result(expression,result.value,level=level)\n",
    "\n",
    "    result.on_submit(handle_submit)    \n",
    "\n",
    "operacion_widget(level=1)"
   ]
  },
  {
   "cell_type": "markdown",
   "metadata": {},
   "source": [
    "###  Practique las restas"
   ]
  },
  {
   "cell_type": "code",
   "execution_count": 37,
   "metadata": {},
   "outputs": [
    {
     "data": {
      "application/vnd.jupyter.widget-view+json": {
       "model_id": "25566a7f773f4d27bc1af5162b0b3f4c"
      }
     },
     "metadata": {},
     "output_type": "display_data"
    },
    {
     "data": {
      "application/vnd.jupyter.widget-view+json": {
       "model_id": "4d007438bead484c9494d3a0929f7306"
      }
     },
     "metadata": {},
     "output_type": "display_data"
    },
    {
     "data": {
      "application/vnd.jupyter.widget-view+json": {
       "model_id": "fd4b73096d364e93974e231cba2052d5"
      }
     },
     "metadata": {},
     "output_type": "display_data"
    },
    {
     "data": {
      "application/vnd.jupyter.widget-view+json": {
       "model_id": "fd579387c31e44fab38adbfa58875f70"
      }
     },
     "metadata": {},
     "output_type": "display_data"
    },
    {
     "data": {
      "application/vnd.jupyter.widget-view+json": {
       "model_id": "207e42b1f1804e0caa9c16e82aa28d46"
      }
     },
     "metadata": {},
     "output_type": "display_data"
    }
   ],
   "source": [
    "operacion_widget(level=1,tipo='-')"
   ]
  },
  {
   "cell_type": "markdown",
   "metadata": {},
   "source": [
    "## Practique las tablas"
   ]
  },
  {
   "cell_type": "code",
   "execution_count": 7,
   "metadata": {},
   "outputs": [],
   "source": [
    "import ipywidgets as widgets\n",
    "from IPython.display import display, Math, Latex, clear_output\n",
    "\n",
    "button = widgets.Button(description=\"Borrar tabla\")\n",
    "\n",
    "def on_button_clicked(b):\n",
    "    clear_output()\n",
    "    \n",
    "Tabla=widgets.Text(\n",
    "        description='Memorize la tabla del:'\n",
    ")\n",
    "\n",
    "display(widgets.HTML('¿Cual tabla, del 1 al 10, desea memorizar?'))\n",
    "\n",
    "\n",
    "display(Tabla)\n",
    "def handle_submit(sender):\n",
    "    N=Tabla.value\n",
    "    for i in range(1,12):\n",
    "        if i<11:\n",
    "            display(widgets.HTML('{} x {} = {}'.format(N,i,int(N)*i)))\n",
    "        \n",
    "        if i==11:\n",
    "            display(button)\n",
    "            display(widgets.HTML('''y <b>practique</b> en la siguiente celda con <code>Shift+Enter</code></b>\n",
    "                        '''))\n",
    "            button.on_click(on_button_clicked)\n",
    "            \n",
    "Tabla.on_submit(handle_submit) "
   ]
  },
  {
   "cell_type": "code",
   "execution_count": null,
   "metadata": {},
   "outputs": [],
   "source": [
    "import ipywidgets as widgets\n",
    "from IPython.display import display, Math, Latex, clear_output\n",
    "\n",
    "display(widgets.HTML('<b>Practique aquí</b>'))\n",
    "error=False\n",
    "N=Tabla.value\n",
    "tb=[];tb.append(0)\n",
    "for i in range(1,11):\n",
    "    tb.append( widgets.Text(description='{} x {} ='.format(N,i)) )\n",
    "    display(tb[i])\n",
    "\n",
    "button = widgets.Button( description=\"Comprobar\")\n",
    "    \n",
    "def on_button_clicked(b):\n",
    "    error=False\n",
    "    for i in range(1,11):\n",
    "        if int(tb[i].value)!=int(N)*i:\n",
    "            error=True\n",
    "            display(widgets.HTML( '<h1>Mal!: <font color=\"red\"> ' +N+' x {} = {}</font>,  no '.format(i,int(N)*i)+ tb[i].value+'</h1>'  ) )\n",
    "    display(widgets.HTML( '<hr>' ) )\n",
    "    if not error:\n",
    "        display(widgets.HTML('''<h1>¡Felicitaciones!: sabes la tabla del {} </h1> \n",
    "                                <h2> <font color=\"blue\"> !Buen trabajo!</font></h2><hr>'''.format(N)))    \n",
    "    \n",
    "display(button)\n",
    "button.on_click(on_button_clicked)"
   ]
  },
  {
   "cell_type": "markdown",
   "metadata": {},
   "source": [
    "## Área experimental\n",
    "See: https://blog.dominodatalab.com/interactive-dashboards-in-jupyter/"
   ]
  },
  {
   "cell_type": "code",
   "execution_count": null,
   "metadata": {},
   "outputs": [],
   "source": [
    "import ipywidgets as widgets\n",
    "from IPython.display import display, Math, Latex"
   ]
  },
  {
   "cell_type": "code",
   "execution_count": 139,
   "metadata": {},
   "outputs": [
    {
     "data": {
      "application/vnd.jupyter.widget-view+json": {
       "model_id": "ed487d195a934e86988d5e9e8213481a"
      }
     },
     "metadata": {},
     "output_type": "display_data"
    }
   ],
   "source": [
    "outputText1=widgets.Text()\n",
    "#outputText2=widgets.Text()\n",
    "outputText1\n",
    "#outputText2"
   ]
  },
  {
   "cell_type": "code",
   "execution_count": 140,
   "metadata": {},
   "outputs": [
    {
     "data": {
      "application/vnd.jupyter.widget-view+json": {
       "model_id": "f1810d1ec26547eb88004ff63c464c20"
      }
     },
     "metadata": {},
     "output_type": "display_data"
    }
   ],
   "source": [
    "inputText1=widgets.Text()\n",
    "N=2\n",
    "def practique(sender):\n",
    "    outputText1.value=str( eval(inputText1.value) )\n",
    "\n",
    "inputText1.on_submit(practique)\n",
    "inputText1"
   ]
  },
  {
   "cell_type": "markdown",
   "metadata": {},
   "source": [
    "## import sympy"
   ]
  },
  {
   "cell_type": "code",
   "execution_count": 52,
   "metadata": {},
   "outputs": [
    {
     "data": {
      "image/png": "[encoded data removed]",
      "text/latex": [
       "$$6$$"
      ],
      "text/plain": [
       "6"
      ]
     },
     "execution_count": 52,
     "metadata": {},
     "output_type": "execute_result"
    }
   ],
   "source": [
    "sympy.expand('2*3')"
   ]
  },
  {
   "cell_type": "code",
   "execution_count": 18,
   "metadata": {},
   "outputs": [
    {
     "data": {
      "application/vnd.jupyter.widget-view+json": {
       "model_id": "32458d6ada6242c0a1062c13ab9a43f7"
      }
     },
     "metadata": {},
     "output_type": "display_data"
    }
   ],
   "source": [
    "a=widgets.Text(value='2')\n",
    "display(a)"
   ]
  },
  {
   "cell_type": "code",
   "execution_count": null,
   "metadata": {},
   "outputs": [],
   "source": []
  }
 ],
 "metadata": {
  "kernelspec": {
   "display_name": "Python 3",
   "language": "python",
   "name": "python3"
  },
  "language_info": {
   "codemirror_mode": {
    "name": "ipython",
    "version": 3
   },
   "file_extension": ".py",
   "mimetype": "text/x-python",
   "name": "python",
   "nbconvert_exporter": "python",
   "pygments_lexer": "ipython3",
   "version": "3.5.3"
  }
 },
 "nbformat": 4,
 "nbformat_minor": 2
}
