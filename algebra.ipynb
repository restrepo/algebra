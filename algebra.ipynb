{
 "cells": [
  {
   "cell_type": "markdown",
   "metadata": {},
   "source": [
    "# Polynomial multiplication"
   ]
  },
  {
   "cell_type": "code",
   "execution_count": 9,
   "metadata": {
    "collapsed": false
   },
   "outputs": [
    {
     "name": "stdout",
     "output_type": "stream",
     "text": [
      "Writing polymult.py\n"
     ]
    }
   ],
   "source": [
    "%%writefile polymult.py\n",
    "def exer_mult(expression):\n",
    "    import sympy as sym\n",
    "    from sympy import init_printing; init_printing() \n",
    "    from IPython.display import display, Math, Latex\n",
    "    a, b, c, x, y, z = sym.symbols(\"a b c x y z\")\n",
    "    print 'Expand the expression:'\n",
    "    display(Math(str(expression).replace('**','^').replace('*','')))\n",
    "    result=raw_input()\n",
    "    if sym.expand(eval(expression))== eval(result): \n",
    "        return \"Good job!\"\n",
    "    else:\n",
    "        print('WRONG!!!\\nRight result:')\n",
    "        return sym.expand(expression)\n",
    "    \n",
    "def exer_mult_step(expression):\n",
    "    import re\n",
    "    import sympy as sym\n",
    "    from sympy import init_printing; init_printing() \n",
    "    from IPython.display import display, Math, Latex\n",
    "    a, b, c, x, y, z = sym.symbols(\"a b c x y z\")\n",
    "    \n",
    "    expression=str(expression)\n",
    "    print 'Expand the following expression step by step:'\n",
    "    display(Math(str(expression).replace('**','^').replace('*','')))\n",
    "    print 'Multiply ALL the monomials:'\n",
    "    factor=re.split('\\)\\s*\\*\\s*\\(',str(expression))\n",
    "    refactor=[ re.split('\\(|\\)',factor[i])[1-i] for i in range(len(factor))]\n",
    "    terms=[ re.split(':',re.sub('\\s*(\\+|\\-)\\s*',r':\\1',refactor[i])) for i in range(len(refactor)) ]\n",
    "    expandednr=''\n",
    "    for i in terms[0]:\n",
    "        for j in terms[1]:\n",
    "            if i and j: #mo empty strings\n",
    "                print '(%s)*(%s)' %(i,j)\n",
    "                newterm=raw_input()\n",
    "                if re.search('^-',newterm):\n",
    "                    newterm=newterm\n",
    "                else:\n",
    "                    newterm='+'+newterm\n",
    "                expandednr=expandednr+newterm\n",
    "                expandednr=re.sub('^\\+','',expandednr)\n",
    "    print 'Reduce the expression:' \n",
    "    display(Math(expandednr.replace('**','^').replace('*','')))\n",
    "    result=raw_input()\n",
    "    if sym.expand(eval(expression))== eval(result): \n",
    "        print \"Good job!, final result\"\n",
    "        return eval(result)\n",
    "        \n",
    "    else:\n",
    "        print('WRONG!!!\\nRight result:')\n",
    "        return sym.expand(expression)\n",
    "           "
   ]
  },
  {
   "cell_type": "code",
   "execution_count": 2,
   "metadata": {
    "collapsed": false
   },
   "outputs": [],
   "source": [
    "from polymult import *"
   ]
  },
  {
   "cell_type": "markdown",
   "metadata": {},
   "source": [
    "## Level 1"
   ]
  },
  {
   "cell_type": "code",
   "execution_count": 8,
   "metadata": {
    "collapsed": false
   },
   "outputs": [
    {
     "name": "stdout",
     "output_type": "stream",
     "text": [
      "Expand the following expression step by step:\n"
     ]
    },
    {
     "data": {
      "text/latex": [
       "$$(5a+7b)(a+3b)$$"
      ],
      "text/plain": [
       "<IPython.core.display.Math object>"
      ]
     },
     "metadata": {},
     "output_type": "display_data"
    },
    {
     "name": "stdout",
     "output_type": "stream",
     "text": [
      "Multiply ALL the monomials:\n",
      "(5*a)*(a)\n",
      "a\n",
      "(5*a)*(+3*b)\n",
      "a\n",
      "(+7*b)*(a)\n",
      "a\n",
      "(+7*b)*(+3*b)\n",
      "a\n",
      "Reduce the expression:\n"
     ]
    },
    {
     "data": {
      "text/latex": [
       "$$a+a+a+a$$"
      ],
      "text/plain": [
       "<IPython.core.display.Math object>"
      ]
     },
     "metadata": {},
     "output_type": "display_data"
    },
    {
     "name": "stdout",
     "output_type": "stream",
     "text": [
      "a\n",
      "WRONG!!!\n",
      "Right result:\n"
     ]
    },
    {
     "data": {
      "image/png": "[encoded data removed]",
      "text/latex": [
       "$$5 a^{2} + 22 a b + 21 b^{2}$$"
      ],
      "text/plain": [
       "   2                2\n",
       "5⋅a  + 22⋅a⋅b + 21⋅b "
      ]
     },
     "execution_count": 8,
     "metadata": {},
     "output_type": "execute_result"
    }
   ],
   "source": [
    "exer_mult_step( '(5*a+7*b)*(a+3*b)' )"
   ]
  },
  {
   "cell_type": "markdown",
   "metadata": {},
   "source": [
    "## Level 2"
   ]
  },
  {
   "cell_type": "code",
   "execution_count": 3,
   "metadata": {
    "collapsed": false
   },
   "outputs": [
    {
     "name": "stdout",
     "output_type": "stream",
     "text": [
      "Expand the expression:\n"
     ]
    },
    {
     "data": {
      "text/latex": [
       "$$(5a+7b)(a+3b)$$"
      ],
      "text/plain": [
       "<IPython.core.display.Math object>"
      ]
     },
     "metadata": {},
     "output_type": "display_data"
    },
    {
     "name": "stdout",
     "output_type": "stream",
     "text": [
      "a\n",
      "WRONG!!!\n",
      "Right result:\n"
     ]
    },
    {
     "data": {
      "image/png": "[encoded data removed]",
      "text/latex": [
       "$$5 a^{2} + 22 a b + 21 b^{2}$$"
      ],
      "text/plain": [
       "   2                2\n",
       "5⋅a  + 22⋅a⋅b + 21⋅b "
      ]
     },
     "execution_count": 3,
     "metadata": {},
     "output_type": "execute_result"
    }
   ],
   "source": [
    "exer_mult( '(5*a+7*b)*(a+3*b)' )"
   ]
  },
  {
   "cell_type": "code",
   "execution_count": null,
   "metadata": {
    "collapsed": true
   },
   "outputs": [],
   "source": []
  }
 ],
 "metadata": {
  "kernelspec": {
   "display_name": "Python 2",
   "language": "python",
   "name": "python2"
  },
  "language_info": {
   "codemirror_mode": {
    "name": "ipython",
    "version": 2
   },
   "file_extension": ".py",
   "mimetype": "text/x-python",
   "name": "python",
   "nbconvert_exporter": "python",
   "pygments_lexer": "ipython2",
   "version": "2.7.9"
  }
 },
 "nbformat": 4,
 "nbformat_minor": 0
}
