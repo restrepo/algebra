{
 "cells": [
  {
   "cell_type": "markdown",
   "metadata": {},
   "source": [
    "# Polynomial multiplication"
   ]
  },
  {
   "cell_type": "code",
   "execution_count": 1,
   "metadata": {
    "collapsed": false
   },
   "outputs": [],
   "source": [
    "from polymult import *"
   ]
  },
  {
   "cell_type": "markdown",
   "metadata": {},
   "source": [
    "## Level 1"
   ]
  },
  {
   "cell_type": "code",
   "execution_count": 2,
   "metadata": {
    "collapsed": false
   },
   "outputs": [
    {
     "name": "stdout",
     "output_type": "stream",
     "text": [
      "Expand the following expression step by step:\n"
     ]
    },
    {
     "data": {
      "text/latex": [
       "$$(5a+7b)(a+3b)$$"
      ],
      "text/plain": [
       "<IPython.core.display.Math object>"
      ]
     },
     "metadata": {},
     "output_type": "display_data"
    },
    {
     "name": "stdout",
     "output_type": "stream",
     "text": [
      "Multiply ALL the monomials:\n",
      "(5*a)*(a)\n",
      "5*a**2\n",
      "(5*a)*(+3*b)\n",
      "15*a*b\n",
      "(+7*b)*(a)\n",
      "7*a*b\n",
      "(+7*b)*(+3*b)\n",
      "21*b**2\n",
      "Reduce the expression:\n"
     ]
    },
    {
     "data": {
      "text/latex": [
       "$$5a^2+15ab+7ab+21b^2$$"
      ],
      "text/plain": [
       "<IPython.core.display.Math object>"
      ]
     },
     "metadata": {},
     "output_type": "display_data"
    },
    {
     "name": "stdout",
     "output_type": "stream",
     "text": [
      "5*a**2+22*a*b+21*b**2\n",
      "Good job!, final result\n"
     ]
    },
    {
     "data": {
      "image/png": "[encoded data removed]",
      "text/latex": [
       "$$5 a^{2} + 22 a b + 21 b^{2}$$"
      ],
      "text/plain": [
       "   2                2\n",
       "5⋅a  + 22⋅a⋅b + 21⋅b "
      ]
     },
     "execution_count": 2,
     "metadata": {},
     "output_type": "execute_result"
    }
   ],
   "source": [
    "exer_mult_step( '(5*a+7*b)*(a+3*b)' )"
   ]
  },
  {
   "cell_type": "markdown",
   "metadata": {},
   "source": [
    "## Level 2"
   ]
  },
  {
   "cell_type": "code",
   "execution_count": 3,
   "metadata": {
    "collapsed": false
   },
   "outputs": [
    {
     "name": "stdout",
     "output_type": "stream",
     "text": [
      "Expand the expression:\n"
     ]
    },
    {
     "data": {
      "text/latex": [
       "$$(5a+7b)(a+3b)$$"
      ],
      "text/plain": [
       "<IPython.core.display.Math object>"
      ]
     },
     "metadata": {},
     "output_type": "display_data"
    },
    {
     "name": "stdout",
     "output_type": "stream",
     "text": [
      "5*a**2+22*a*b+21*b**2\n"
     ]
    },
    {
     "data": {
      "text/plain": [
       "'Good job!'"
      ]
     },
     "execution_count": 3,
     "metadata": {},
     "output_type": "execute_result"
    }
   ],
   "source": [
    "exer_mult( '(5*a+7*b)*(a+3*b)' )"
   ]
  },
  {
   "cell_type": "code",
   "execution_count": 8,
   "metadata": {
    "collapsed": false
   },
   "outputs": [
    {
     "name": "stderr",
     "output_type": "stream",
     "text": [
      "To git@github.com:simonres/algebra.git\n",
      "   7d9abd0..47a631c  master -> master\n"
     ]
    }
   ],
   "source": [
    "%%bash\n",
    "#git config --global user.name \"Pi gfif\"\n",
    "#git config --global user.email restrepo.simon@gmail.com\n",
    "git commit -am \"Version 1.0 beta\"\n",
    "git push origin master\n"
   ]
  }
 ],
 "metadata": {
  "kernelspec": {
   "display_name": "Python 2",
   "language": "python",
   "name": "python2"
  },
  "language_info": {
   "codemirror_mode": {
    "name": "ipython",
    "version": 2
   },
   "file_extension": ".py",
   "mimetype": "text/x-python",
   "name": "python",
   "nbconvert_exporter": "python",
   "pygments_lexer": "ipython2",
   "version": "2.7.9"
  }
 },
 "nbformat": 4,
 "nbformat_minor": 0
}
